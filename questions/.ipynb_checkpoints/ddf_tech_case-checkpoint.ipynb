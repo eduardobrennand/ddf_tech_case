{
 "cells": [
  {
   "cell_type": "markdown",
   "id": "6fbaa0d6",
   "metadata": {},
   "source": [
    "# Technical Test in Data Science"
   ]
  },
  {
   "cell_type": "markdown",
   "id": "839cb63b",
   "metadata": {},
   "source": [
    "## Python Version"
   ]
  },
  {
   "cell_type": "code",
   "execution_count": 1,
   "id": "e7987f77",
   "metadata": {
    "scrolled": true
   },
   "outputs": [
    {
     "name": "stdout",
     "output_type": "stream",
     "text": [
      "Python 3.9.7\n"
     ]
    }
   ],
   "source": [
    "!python --version"
   ]
  },
  {
   "cell_type": "markdown",
   "id": "57e043fb",
   "metadata": {},
   "source": [
    "## Libraries"
   ]
  },
  {
   "cell_type": "code",
   "execution_count": 2,
   "id": "156ceb57",
   "metadata": {
    "scrolled": true
   },
   "outputs": [
    {
     "data": {
      "text/plain": [
       "'!pip install pandas==1.3.4\\n!pip install matplotlib==3.4.3\\n!pip install seaborn==0.11.2\\n!pip install numpy==1.20.3'"
      ]
     },
     "execution_count": 2,
     "metadata": {},
     "output_type": "execute_result"
    }
   ],
   "source": [
    "!pip install pandas==1.3.4\n",
    "!pip install matplotlib==3.4.3\n",
    "!pip install seaborn==0.11.2\n",
    "!pip install numpy==1.20.3\n",
    "!pip install neuralprophet==0.3.2"
   ]
  },
  {
   "cell_type": "markdown",
   "id": "0986f78a",
   "metadata": {},
   "source": [
    "## Imports"
   ]
  },
  {
   "cell_type": "code",
   "execution_count": 3,
   "id": "2dac61d2",
   "metadata": {},
   "outputs": [],
   "source": [
    "import pandas as pd\n",
    "import numpy as np\n",
    "import matplotlib.pyplot as plt\n",
    "%matplotlib inline\n",
    "import seaborn as sns\n",
    "import sqlite3\n",
    "import datetime as dt\n",
    "import os"
   ]
  },
  {
   "cell_type": "markdown",
   "id": "0c1263fe",
   "metadata": {},
   "source": [
    "## Loading both datasets (tides and waves)\n",
    "First, we'll be creating the DataFrames from data from all the buoys, ranging from August 2021 to August 2022. After that, we'll explore and clean both datasets, trying to find missing values."
   ]
  },
  {
   "cell_type": "code",
   "execution_count": 4,
   "id": "95047118",
   "metadata": {
    "scrolled": true
   },
   "outputs": [
    {
     "name": "stderr",
     "output_type": "stream",
     "text": [
      "C:\\Users\\eduar\\anaconda3\\lib\\site-packages\\pandas\\core\\reshape\\concat.py:294: DtypeWarning: Columns (0,1,4,5,6,7,8,9,10,11) have mixed types.Specify dtype option on import or set low_memory=False.\n",
      "  op = _Concatenator(\n"
     ]
    }
   ],
   "source": [
    "#Creating a list with all tides files\n",
    "t_path = os.listdir('../data/tides')\n",
    "t_list = [f'../data/tides/{f}' for f in t_path]\n",
    "\n",
    "#Creating a list with all waves files\n",
    "w_path = os.listdir('../data/waves')\n",
    "w_list = [f'../data/waves/{f}' for f in w_path]\n",
    "\n",
    "#Loading tide data into a dataframe\n",
    "t_data = pd.concat(map(pd.read_csv, t_list))\n",
    "\n",
    "#Loading wave data into a dataframe\n",
    "w_data = pd.concat(map(pd.read_csv, w_list))\n",
    "w_data.dtype='unicode'"
   ]
  },
  {
   "cell_type": "markdown",
   "id": "f4c8a929",
   "metadata": {},
   "source": [
    "## Tides dataset exploration"
   ]
  },
  {
   "cell_type": "markdown",
   "id": "179c34a9",
   "metadata": {},
   "source": [
    "Displaying the first 5 rows of the dataset"
   ]
  },
  {
   "cell_type": "code",
   "execution_count": 5,
   "id": "a3d20e36",
   "metadata": {
    "scrolled": true
   },
   "outputs": [
    {
     "data": {
      "text/html": [
       "<div>\n",
       "<style scoped>\n",
       "    .dataframe tbody tr th:only-of-type {\n",
       "        vertical-align: middle;\n",
       "    }\n",
       "\n",
       "    .dataframe tbody tr th {\n",
       "        vertical-align: top;\n",
       "    }\n",
       "\n",
       "    .dataframe thead th {\n",
       "        text-align: right;\n",
       "    }\n",
       "</style>\n",
       "<table border=\"1\" class=\"dataframe\">\n",
       "  <thead>\n",
       "    <tr style=\"text-align: right;\">\n",
       "      <th></th>\n",
       "      <th>time</th>\n",
       "      <th>station_id</th>\n",
       "      <th>latitude</th>\n",
       "      <th>longitude</th>\n",
       "      <th>Water_Level_LAT</th>\n",
       "      <th>Water_Level_OD_Malin</th>\n",
       "      <th>QC_Flag</th>\n",
       "    </tr>\n",
       "  </thead>\n",
       "  <tbody>\n",
       "    <tr>\n",
       "      <th>0</th>\n",
       "      <td>UTC</td>\n",
       "      <td>NaN</td>\n",
       "      <td>degrees_north</td>\n",
       "      <td>degrees_east</td>\n",
       "      <td>metres</td>\n",
       "      <td>metres</td>\n",
       "      <td>NaN</td>\n",
       "    </tr>\n",
       "    <tr>\n",
       "      <th>1</th>\n",
       "      <td>2021-08-13T04:15:00Z</td>\n",
       "      <td>Killybegs Port</td>\n",
       "      <td>54.6364</td>\n",
       "      <td>-8.3949</td>\n",
       "      <td>1.286</td>\n",
       "      <td>-1.007</td>\n",
       "      <td>1.0</td>\n",
       "    </tr>\n",
       "    <tr>\n",
       "      <th>2</th>\n",
       "      <td>2021-08-13T04:20:00Z</td>\n",
       "      <td>Killybegs Port</td>\n",
       "      <td>54.6364</td>\n",
       "      <td>-8.3949</td>\n",
       "      <td>1.31</td>\n",
       "      <td>-0.983</td>\n",
       "      <td>1.0</td>\n",
       "    </tr>\n",
       "    <tr>\n",
       "      <th>3</th>\n",
       "      <td>2021-08-13T04:25:00Z</td>\n",
       "      <td>Killybegs Port</td>\n",
       "      <td>54.6364</td>\n",
       "      <td>-8.3949</td>\n",
       "      <td>1.344</td>\n",
       "      <td>-0.949</td>\n",
       "      <td>1.0</td>\n",
       "    </tr>\n",
       "    <tr>\n",
       "      <th>4</th>\n",
       "      <td>2021-08-13T04:30:00Z</td>\n",
       "      <td>Killybegs Port</td>\n",
       "      <td>54.6364</td>\n",
       "      <td>-8.3949</td>\n",
       "      <td>1.381</td>\n",
       "      <td>-0.912</td>\n",
       "      <td>1.0</td>\n",
       "    </tr>\n",
       "  </tbody>\n",
       "</table>\n",
       "</div>"
      ],
      "text/plain": [
       "                   time      station_id       latitude     longitude  \\\n",
       "0                   UTC             NaN  degrees_north  degrees_east   \n",
       "1  2021-08-13T04:15:00Z  Killybegs Port        54.6364       -8.3949   \n",
       "2  2021-08-13T04:20:00Z  Killybegs Port        54.6364       -8.3949   \n",
       "3  2021-08-13T04:25:00Z  Killybegs Port        54.6364       -8.3949   \n",
       "4  2021-08-13T04:30:00Z  Killybegs Port        54.6364       -8.3949   \n",
       "\n",
       "  Water_Level_LAT Water_Level_OD_Malin  QC_Flag  \n",
       "0          metres               metres      NaN  \n",
       "1           1.286               -1.007      1.0  \n",
       "2            1.31               -0.983      1.0  \n",
       "3           1.344               -0.949      1.0  \n",
       "4           1.381               -0.912      1.0  "
      ]
     },
     "execution_count": 5,
     "metadata": {},
     "output_type": "execute_result"
    }
   ],
   "source": [
    "t_data.head()"
   ]
  },
  {
   "cell_type": "markdown",
   "id": "b3601f75",
   "metadata": {},
   "source": [
    "Dropping the first row, because there is no use for such measurements."
   ]
  },
  {
   "cell_type": "code",
   "execution_count": 6,
   "id": "9221ad99",
   "metadata": {},
   "outputs": [],
   "source": [
    "t_data = t_data.drop(axis=0,index= 0)"
   ]
  },
  {
   "cell_type": "markdown",
   "id": "2af54fb3",
   "metadata": {},
   "source": [
    "Searching for missing values (nan)"
   ]
  },
  {
   "cell_type": "code",
   "execution_count": 7,
   "id": "cbc8145c",
   "metadata": {
    "scrolled": true
   },
   "outputs": [
    {
     "name": "stdout",
     "output_type": "stream",
     "text": [
      "Column -> time: Missing Values -> 0 rows\n",
      "Column -> station_id: Missing Values -> 0 rows\n",
      "Column -> latitude: Missing Values -> 0 rows\n",
      "Column -> longitude: Missing Values -> 0 rows\n",
      "Column -> Water_Level_LAT: Missing Values -> 152309 rows\n",
      "Column -> Water_Level_OD_Malin: Missing Values -> 0 rows\n",
      "Column -> QC_Flag: Missing Values -> 0 rows\n"
     ]
    }
   ],
   "source": [
    "for c in t_data.columns:\n",
    "    nan = t_data[f'{c}'].isnull().sum()\n",
    "    print(f'Column -> {c}: Missing Values -> {nan} rows')"
   ]
  },
  {
   "cell_type": "markdown",
   "id": "f5759f40",
   "metadata": {},
   "source": [
    "Columns and rows"
   ]
  },
  {
   "cell_type": "code",
   "execution_count": 8,
   "id": "435c6f7e",
   "metadata": {},
   "outputs": [
    {
     "data": {
      "text/plain": [
       "(1330873, 7)"
      ]
     },
     "execution_count": 8,
     "metadata": {},
     "output_type": "execute_result"
    }
   ],
   "source": [
    "t_data.shape"
   ]
  },
  {
   "cell_type": "markdown",
   "id": "c844cc11",
   "metadata": {},
   "source": [
    "Checking the datetype for each column"
   ]
  },
  {
   "cell_type": "code",
   "execution_count": 9,
   "id": "e257758c",
   "metadata": {
    "scrolled": true
   },
   "outputs": [
    {
     "data": {
      "text/plain": [
       "time                     object\n",
       "station_id               object\n",
       "latitude                 object\n",
       "longitude                object\n",
       "Water_Level_LAT          object\n",
       "Water_Level_OD_Malin     object\n",
       "QC_Flag                 float64\n",
       "dtype: object"
      ]
     },
     "execution_count": 9,
     "metadata": {},
     "output_type": "execute_result"
    }
   ],
   "source": [
    "t_data.dtypes"
   ]
  },
  {
   "cell_type": "markdown",
   "id": "9e399952",
   "metadata": {},
   "source": [
    "Describing the dataset"
   ]
  },
  {
   "cell_type": "code",
   "execution_count": 10,
   "id": "33c6b273",
   "metadata": {
    "scrolled": true
   },
   "outputs": [
    {
     "data": {
      "text/html": [
       "<div>\n",
       "<style scoped>\n",
       "    .dataframe tbody tr th:only-of-type {\n",
       "        vertical-align: middle;\n",
       "    }\n",
       "\n",
       "    .dataframe tbody tr th {\n",
       "        vertical-align: top;\n",
       "    }\n",
       "\n",
       "    .dataframe thead th {\n",
       "        text-align: right;\n",
       "    }\n",
       "</style>\n",
       "<table border=\"1\" class=\"dataframe\">\n",
       "  <thead>\n",
       "    <tr style=\"text-align: right;\">\n",
       "      <th></th>\n",
       "      <th>QC_Flag</th>\n",
       "    </tr>\n",
       "  </thead>\n",
       "  <tbody>\n",
       "    <tr>\n",
       "      <th>count</th>\n",
       "      <td>1.330873e+06</td>\n",
       "    </tr>\n",
       "    <tr>\n",
       "      <th>mean</th>\n",
       "      <td>4.441025e-01</td>\n",
       "    </tr>\n",
       "    <tr>\n",
       "      <th>std</th>\n",
       "      <td>4.968658e-01</td>\n",
       "    </tr>\n",
       "    <tr>\n",
       "      <th>min</th>\n",
       "      <td>0.000000e+00</td>\n",
       "    </tr>\n",
       "    <tr>\n",
       "      <th>25%</th>\n",
       "      <td>0.000000e+00</td>\n",
       "    </tr>\n",
       "    <tr>\n",
       "      <th>50%</th>\n",
       "      <td>0.000000e+00</td>\n",
       "    </tr>\n",
       "    <tr>\n",
       "      <th>75%</th>\n",
       "      <td>1.000000e+00</td>\n",
       "    </tr>\n",
       "    <tr>\n",
       "      <th>max</th>\n",
       "      <td>1.000000e+00</td>\n",
       "    </tr>\n",
       "  </tbody>\n",
       "</table>\n",
       "</div>"
      ],
      "text/plain": [
       "            QC_Flag\n",
       "count  1.330873e+06\n",
       "mean   4.441025e-01\n",
       "std    4.968658e-01\n",
       "min    0.000000e+00\n",
       "25%    0.000000e+00\n",
       "50%    0.000000e+00\n",
       "75%    1.000000e+00\n",
       "max    1.000000e+00"
      ]
     },
     "execution_count": 10,
     "metadata": {},
     "output_type": "execute_result"
    }
   ],
   "source": [
    "t_data.describe()"
   ]
  },
  {
   "cell_type": "markdown",
   "id": "22a918eb",
   "metadata": {},
   "source": [
    "### Converting columns datetype"
   ]
  },
  {
   "cell_type": "code",
   "execution_count": 11,
   "id": "82219e91",
   "metadata": {},
   "outputs": [],
   "source": [
    "#Converting numeric columns to numeric datetype\n",
    "t_data[['Water_Level_LAT', 'Water_Level_OD_Malin']] = t_data[['Water_Level_LAT', 'Water_Level_OD_Malin']].apply(pd.to_numeric)\n",
    "\n",
    "#Converting time column to datetime datetype\n",
    "t_data['time'] = t_data['time'].apply(pd.to_datetime)"
   ]
  },
  {
   "cell_type": "markdown",
   "id": "e7e70776",
   "metadata": {},
   "source": [
    "### Processing data"
   ]
  },
  {
   "cell_type": "markdown",
   "id": "a1681894",
   "metadata": {},
   "source": [
    "Since we only have missing values on the \"Water_Level_LAT\" column, we'll delete all rows with nan values."
   ]
  },
  {
   "cell_type": "code",
   "execution_count": 12,
   "id": "27e895fd",
   "metadata": {},
   "outputs": [],
   "source": [
    "t_data = t_data.dropna(subset=['Water_Level_LAT'])"
   ]
  },
  {
   "cell_type": "markdown",
   "id": "86cd1715",
   "metadata": {},
   "source": [
    "We won't be using the QC_Flag column, so we'll drop it aswell."
   ]
  },
  {
   "cell_type": "code",
   "execution_count": 13,
   "id": "16da97e0",
   "metadata": {},
   "outputs": [],
   "source": [
    "t_data = t_data.drop(columns='QC_Flag')"
   ]
  },
  {
   "cell_type": "markdown",
   "id": "7b96c1a9",
   "metadata": {},
   "source": [
    "## Waves dataset exploration"
   ]
  },
  {
   "cell_type": "markdown",
   "id": "da57a233",
   "metadata": {},
   "source": [
    "Displaying the first 5 rows of the dataset"
   ]
  },
  {
   "cell_type": "code",
   "execution_count": 14,
   "id": "b1cb3473",
   "metadata": {
    "scrolled": true
   },
   "outputs": [
    {
     "data": {
      "text/html": [
       "<div>\n",
       "<style scoped>\n",
       "    .dataframe tbody tr th:only-of-type {\n",
       "        vertical-align: middle;\n",
       "    }\n",
       "\n",
       "    .dataframe tbody tr th {\n",
       "        vertical-align: top;\n",
       "    }\n",
       "\n",
       "    .dataframe thead th {\n",
       "        text-align: right;\n",
       "    }\n",
       "</style>\n",
       "<table border=\"1\" class=\"dataframe\">\n",
       "  <thead>\n",
       "    <tr style=\"text-align: right;\">\n",
       "      <th></th>\n",
       "      <th>longitude</th>\n",
       "      <th>latitude</th>\n",
       "      <th>time</th>\n",
       "      <th>station_id</th>\n",
       "      <th>PeakPeriod</th>\n",
       "      <th>PeakDirection</th>\n",
       "      <th>UpcrossPeriod</th>\n",
       "      <th>SignificantWaveHeight</th>\n",
       "      <th>Hmax</th>\n",
       "      <th>SeaTemperature</th>\n",
       "      <th>MeanCurSpeed</th>\n",
       "      <th>MeanCurDirTo</th>\n",
       "    </tr>\n",
       "  </thead>\n",
       "  <tbody>\n",
       "    <tr>\n",
       "      <th>0</th>\n",
       "      <td>degrees_east</td>\n",
       "      <td>degrees_north</td>\n",
       "      <td>UTC</td>\n",
       "      <td>NaN</td>\n",
       "      <td>s</td>\n",
       "      <td>degrees_true</td>\n",
       "      <td>s</td>\n",
       "      <td>cm</td>\n",
       "      <td>cm</td>\n",
       "      <td>degree_C</td>\n",
       "      <td>m/s</td>\n",
       "      <td>degrees_true</td>\n",
       "    </tr>\n",
       "    <tr>\n",
       "      <th>1</th>\n",
       "      <td>-9.262278</td>\n",
       "      <td>53.228333</td>\n",
       "      <td>2021-08-13T04:15:00Z</td>\n",
       "      <td>SmartBay Wave Buoy</td>\n",
       "      <td>NaN</td>\n",
       "      <td>NaN</td>\n",
       "      <td>NaN</td>\n",
       "      <td>NaN</td>\n",
       "      <td>NaN</td>\n",
       "      <td>16.46</td>\n",
       "      <td>NaN</td>\n",
       "      <td>NaN</td>\n",
       "    </tr>\n",
       "    <tr>\n",
       "      <th>2</th>\n",
       "      <td>-9.262278</td>\n",
       "      <td>53.228333</td>\n",
       "      <td>2021-08-13T04:20:00Z</td>\n",
       "      <td>SmartBay Wave Buoy</td>\n",
       "      <td>NaN</td>\n",
       "      <td>NaN</td>\n",
       "      <td>NaN</td>\n",
       "      <td>NaN</td>\n",
       "      <td>NaN</td>\n",
       "      <td>16.46</td>\n",
       "      <td>0.311</td>\n",
       "      <td>81.31868</td>\n",
       "    </tr>\n",
       "    <tr>\n",
       "      <th>3</th>\n",
       "      <td>-9.262278</td>\n",
       "      <td>53.228333</td>\n",
       "      <td>2021-08-13T04:25:00Z</td>\n",
       "      <td>SmartBay Wave Buoy</td>\n",
       "      <td>NaN</td>\n",
       "      <td>NaN</td>\n",
       "      <td>NaN</td>\n",
       "      <td>NaN</td>\n",
       "      <td>NaN</td>\n",
       "      <td>16.46</td>\n",
       "      <td>NaN</td>\n",
       "      <td>NaN</td>\n",
       "    </tr>\n",
       "    <tr>\n",
       "      <th>4</th>\n",
       "      <td>-9.262278</td>\n",
       "      <td>53.228333</td>\n",
       "      <td>2021-08-13T04:30:00Z</td>\n",
       "      <td>SmartBay Wave Buoy</td>\n",
       "      <td>5.26</td>\n",
       "      <td>227.16484</td>\n",
       "      <td>4.08</td>\n",
       "      <td>161.0</td>\n",
       "      <td>240.0</td>\n",
       "      <td>16.46</td>\n",
       "      <td>0.269</td>\n",
       "      <td>77.62637</td>\n",
       "    </tr>\n",
       "  </tbody>\n",
       "</table>\n",
       "</div>"
      ],
      "text/plain": [
       "      longitude       latitude                  time          station_id  \\\n",
       "0  degrees_east  degrees_north                   UTC                 NaN   \n",
       "1     -9.262278      53.228333  2021-08-13T04:15:00Z  SmartBay Wave Buoy   \n",
       "2     -9.262278      53.228333  2021-08-13T04:20:00Z  SmartBay Wave Buoy   \n",
       "3     -9.262278      53.228333  2021-08-13T04:25:00Z  SmartBay Wave Buoy   \n",
       "4     -9.262278      53.228333  2021-08-13T04:30:00Z  SmartBay Wave Buoy   \n",
       "\n",
       "  PeakPeriod PeakDirection UpcrossPeriod SignificantWaveHeight   Hmax  \\\n",
       "0          s  degrees_true             s                    cm     cm   \n",
       "1        NaN           NaN           NaN                   NaN    NaN   \n",
       "2        NaN           NaN           NaN                   NaN    NaN   \n",
       "3        NaN           NaN           NaN                   NaN    NaN   \n",
       "4       5.26     227.16484          4.08                 161.0  240.0   \n",
       "\n",
       "  SeaTemperature MeanCurSpeed  MeanCurDirTo  \n",
       "0       degree_C          m/s  degrees_true  \n",
       "1          16.46          NaN           NaN  \n",
       "2          16.46        0.311      81.31868  \n",
       "3          16.46          NaN           NaN  \n",
       "4          16.46        0.269      77.62637  "
      ]
     },
     "execution_count": 14,
     "metadata": {},
     "output_type": "execute_result"
    }
   ],
   "source": [
    "w_data.head()"
   ]
  },
  {
   "cell_type": "markdown",
   "id": "3eb9749f",
   "metadata": {},
   "source": [
    "Dropping the first row, because there is no use for such measurements."
   ]
  },
  {
   "cell_type": "code",
   "execution_count": 15,
   "id": "96b959b4",
   "metadata": {},
   "outputs": [],
   "source": [
    "w_data = w_data.drop(axis=0,index= 0)"
   ]
  },
  {
   "cell_type": "markdown",
   "id": "d7f58a88",
   "metadata": {},
   "source": [
    "Searching for missing values (nan)"
   ]
  },
  {
   "cell_type": "code",
   "execution_count": 16,
   "id": "c3b749f1",
   "metadata": {},
   "outputs": [
    {
     "name": "stdout",
     "output_type": "stream",
     "text": [
      "Column -> longitude: Missing Values -> 0 rows\n",
      "Column -> latitude: Missing Values -> 0 rows\n",
      "Column -> time: Missing Values -> 0 rows\n",
      "Column -> station_id: Missing Values -> 0 rows\n",
      "Column -> PeakPeriod: Missing Values -> 188171 rows\n",
      "Column -> PeakDirection: Missing Values -> 188171 rows\n",
      "Column -> UpcrossPeriod: Missing Values -> 188171 rows\n",
      "Column -> SignificantWaveHeight: Missing Values -> 188171 rows\n",
      "Column -> Hmax: Missing Values -> 231400 rows\n",
      "Column -> SeaTemperature: Missing Values -> 0 rows\n",
      "Column -> MeanCurSpeed: Missing Values -> 216935 rows\n",
      "Column -> MeanCurDirTo: Missing Values -> 216938 rows\n"
     ]
    }
   ],
   "source": [
    "for c in w_data.columns:\n",
    "    nan = w_data[f'{c}'].isnull().sum()\n",
    "    print(f'Column -> {c}: Missing Values -> {nan} rows')"
   ]
  },
  {
   "cell_type": "markdown",
   "id": "17f9f6ca",
   "metadata": {},
   "source": [
    "Columns and rows"
   ]
  },
  {
   "cell_type": "code",
   "execution_count": 17,
   "id": "1177a1f3",
   "metadata": {},
   "outputs": [
    {
     "data": {
      "text/plain": [
       "(268999, 12)"
      ]
     },
     "execution_count": 17,
     "metadata": {},
     "output_type": "execute_result"
    }
   ],
   "source": [
    "w_data.shape"
   ]
  },
  {
   "cell_type": "markdown",
   "id": "2844973c",
   "metadata": {},
   "source": [
    "Checking the datetype for each column"
   ]
  },
  {
   "cell_type": "code",
   "execution_count": 18,
   "id": "0701f391",
   "metadata": {},
   "outputs": [
    {
     "data": {
      "text/plain": [
       "longitude                object\n",
       "latitude                 object\n",
       "time                     object\n",
       "station_id               object\n",
       "PeakPeriod               object\n",
       "PeakDirection            object\n",
       "UpcrossPeriod            object\n",
       "SignificantWaveHeight    object\n",
       "Hmax                     object\n",
       "SeaTemperature           object\n",
       "MeanCurSpeed             object\n",
       "MeanCurDirTo             object\n",
       "dtype: object"
      ]
     },
     "execution_count": 18,
     "metadata": {},
     "output_type": "execute_result"
    }
   ],
   "source": [
    "w_data.dtypes"
   ]
  },
  {
   "cell_type": "markdown",
   "id": "7d1c8368",
   "metadata": {},
   "source": [
    "Describing the dataset"
   ]
  },
  {
   "cell_type": "code",
   "execution_count": 19,
   "id": "f61c0ff7",
   "metadata": {
    "scrolled": true
   },
   "outputs": [
    {
     "data": {
      "text/html": [
       "<div>\n",
       "<style scoped>\n",
       "    .dataframe tbody tr th:only-of-type {\n",
       "        vertical-align: middle;\n",
       "    }\n",
       "\n",
       "    .dataframe tbody tr th {\n",
       "        vertical-align: top;\n",
       "    }\n",
       "\n",
       "    .dataframe thead th {\n",
       "        text-align: right;\n",
       "    }\n",
       "</style>\n",
       "<table border=\"1\" class=\"dataframe\">\n",
       "  <thead>\n",
       "    <tr style=\"text-align: right;\">\n",
       "      <th></th>\n",
       "      <th>longitude</th>\n",
       "      <th>latitude</th>\n",
       "      <th>time</th>\n",
       "      <th>station_id</th>\n",
       "      <th>PeakPeriod</th>\n",
       "      <th>PeakDirection</th>\n",
       "      <th>UpcrossPeriod</th>\n",
       "      <th>SignificantWaveHeight</th>\n",
       "      <th>Hmax</th>\n",
       "      <th>SeaTemperature</th>\n",
       "      <th>MeanCurSpeed</th>\n",
       "      <th>MeanCurDirTo</th>\n",
       "    </tr>\n",
       "  </thead>\n",
       "  <tbody>\n",
       "    <tr>\n",
       "      <th>count</th>\n",
       "      <td>268999</td>\n",
       "      <td>268999</td>\n",
       "      <td>268999</td>\n",
       "      <td>268999</td>\n",
       "      <td>80828</td>\n",
       "      <td>80828</td>\n",
       "      <td>80828</td>\n",
       "      <td>80828</td>\n",
       "      <td>37599</td>\n",
       "      <td>268999</td>\n",
       "      <td>52064</td>\n",
       "      <td>52061</td>\n",
       "    </tr>\n",
       "    <tr>\n",
       "      <th>unique</th>\n",
       "      <td>8</td>\n",
       "      <td>8</td>\n",
       "      <td>141946</td>\n",
       "      <td>6</td>\n",
       "      <td>272</td>\n",
       "      <td>2846</td>\n",
       "      <td>1768</td>\n",
       "      <td>1282</td>\n",
       "      <td>1016</td>\n",
       "      <td>872</td>\n",
       "      <td>873</td>\n",
       "      <td>7977</td>\n",
       "    </tr>\n",
       "    <tr>\n",
       "      <th>top</th>\n",
       "      <td>-9.262278</td>\n",
       "      <td>53.228333</td>\n",
       "      <td>2021-08-13T04:15:00Z</td>\n",
       "      <td>Bantry Bay</td>\n",
       "      <td>11.11</td>\n",
       "      <td>296.7</td>\n",
       "      <td>7.273</td>\n",
       "      <td>31.0</td>\n",
       "      <td>48.0</td>\n",
       "      <td>9.45</td>\n",
       "      <td>0.046</td>\n",
       "      <td>73.84615</td>\n",
       "    </tr>\n",
       "    <tr>\n",
       "      <th>freq</th>\n",
       "      <td>65535</td>\n",
       "      <td>65535</td>\n",
       "      <td>3</td>\n",
       "      <td>103081</td>\n",
       "      <td>7196</td>\n",
       "      <td>872</td>\n",
       "      <td>1210</td>\n",
       "      <td>381</td>\n",
       "      <td>215</td>\n",
       "      <td>3113</td>\n",
       "      <td>287</td>\n",
       "      <td>27</td>\n",
       "    </tr>\n",
       "  </tbody>\n",
       "</table>\n",
       "</div>"
      ],
      "text/plain": [
       "        longitude   latitude                  time  station_id PeakPeriod  \\\n",
       "count      268999     268999                268999      268999      80828   \n",
       "unique          8          8                141946           6        272   \n",
       "top     -9.262278  53.228333  2021-08-13T04:15:00Z  Bantry Bay      11.11   \n",
       "freq        65535      65535                     3      103081       7196   \n",
       "\n",
       "       PeakDirection UpcrossPeriod SignificantWaveHeight   Hmax  \\\n",
       "count          80828         80828                 80828  37599   \n",
       "unique          2846          1768                  1282   1016   \n",
       "top            296.7         7.273                  31.0   48.0   \n",
       "freq             872          1210                   381    215   \n",
       "\n",
       "       SeaTemperature MeanCurSpeed MeanCurDirTo  \n",
       "count          268999        52064        52061  \n",
       "unique            872          873         7977  \n",
       "top              9.45        0.046     73.84615  \n",
       "freq             3113          287           27  "
      ]
     },
     "execution_count": 19,
     "metadata": {},
     "output_type": "execute_result"
    }
   ],
   "source": [
    "w_data.describe()"
   ]
  },
  {
   "cell_type": "markdown",
   "id": "4c3afe4c",
   "metadata": {},
   "source": [
    "### Converting columns datetype"
   ]
  },
  {
   "cell_type": "code",
   "execution_count": 20,
   "id": "4f30a9ee",
   "metadata": {},
   "outputs": [],
   "source": [
    "#Converting numeric columns to numeric datetype\n",
    "w_data[['PeakPeriod', 'PeakDirection', 'UpcrossPeriod', 'SignificantWaveHeight', 'Hmax', 'SeaTemperature', 'MeanCurSpeed', 'MeanCurDirTo']] = w_data[['PeakPeriod', 'PeakDirection', 'UpcrossPeriod', 'SignificantWaveHeight', 'Hmax', 'SeaTemperature', 'MeanCurSpeed', 'MeanCurDirTo']].apply(pd.to_numeric)\n",
    "\n",
    "#Converting time column to datetime datetype\n",
    "w_data['time'] = w_data['time'].apply(pd.to_datetime)"
   ]
  },
  {
   "cell_type": "markdown",
   "id": "cf0cd4a4",
   "metadata": {},
   "source": [
    "### Processing data"
   ]
  },
  {
   "cell_type": "markdown",
   "id": "1a143e2f",
   "metadata": {},
   "source": [
    "Since we'll need all SeaTemperature values, we won't drop missing values yet."
   ]
  },
  {
   "cell_type": "code",
   "execution_count": 21,
   "id": "3f531a85",
   "metadata": {},
   "outputs": [],
   "source": [
    "#w_data = w_data.dropna(subset=['PeakDirection', 'PeakPeriod', 'UpcrossPeriod', 'SignificantWaveHeight', 'MeanCurSpeed', 'MeanCurDirTo'])"
   ]
  },
  {
   "cell_type": "code",
   "execution_count": 22,
   "id": "9917a4f4",
   "metadata": {
    "scrolled": false
   },
   "outputs": [
    {
     "data": {
      "text/html": [
       "<div>\n",
       "<style scoped>\n",
       "    .dataframe tbody tr th:only-of-type {\n",
       "        vertical-align: middle;\n",
       "    }\n",
       "\n",
       "    .dataframe tbody tr th {\n",
       "        vertical-align: top;\n",
       "    }\n",
       "\n",
       "    .dataframe thead th {\n",
       "        text-align: right;\n",
       "    }\n",
       "</style>\n",
       "<table border=\"1\" class=\"dataframe\">\n",
       "  <thead>\n",
       "    <tr style=\"text-align: right;\">\n",
       "      <th></th>\n",
       "      <th>longitude</th>\n",
       "      <th>latitude</th>\n",
       "      <th>time</th>\n",
       "      <th>station_id</th>\n",
       "      <th>PeakPeriod</th>\n",
       "      <th>PeakDirection</th>\n",
       "      <th>UpcrossPeriod</th>\n",
       "      <th>SignificantWaveHeight</th>\n",
       "      <th>Hmax</th>\n",
       "      <th>SeaTemperature</th>\n",
       "      <th>MeanCurSpeed</th>\n",
       "      <th>MeanCurDirTo</th>\n",
       "    </tr>\n",
       "  </thead>\n",
       "  <tbody>\n",
       "    <tr>\n",
       "      <th>1</th>\n",
       "      <td>-9.262278</td>\n",
       "      <td>53.228333</td>\n",
       "      <td>2021-08-13 04:15:00+00:00</td>\n",
       "      <td>SmartBay Wave Buoy</td>\n",
       "      <td>NaN</td>\n",
       "      <td>NaN</td>\n",
       "      <td>NaN</td>\n",
       "      <td>NaN</td>\n",
       "      <td>NaN</td>\n",
       "      <td>16.46</td>\n",
       "      <td>NaN</td>\n",
       "      <td>NaN</td>\n",
       "    </tr>\n",
       "    <tr>\n",
       "      <th>2</th>\n",
       "      <td>-9.262278</td>\n",
       "      <td>53.228333</td>\n",
       "      <td>2021-08-13 04:20:00+00:00</td>\n",
       "      <td>SmartBay Wave Buoy</td>\n",
       "      <td>NaN</td>\n",
       "      <td>NaN</td>\n",
       "      <td>NaN</td>\n",
       "      <td>NaN</td>\n",
       "      <td>NaN</td>\n",
       "      <td>16.46</td>\n",
       "      <td>0.311</td>\n",
       "      <td>81.31868</td>\n",
       "    </tr>\n",
       "    <tr>\n",
       "      <th>3</th>\n",
       "      <td>-9.262278</td>\n",
       "      <td>53.228333</td>\n",
       "      <td>2021-08-13 04:25:00+00:00</td>\n",
       "      <td>SmartBay Wave Buoy</td>\n",
       "      <td>NaN</td>\n",
       "      <td>NaN</td>\n",
       "      <td>NaN</td>\n",
       "      <td>NaN</td>\n",
       "      <td>NaN</td>\n",
       "      <td>16.46</td>\n",
       "      <td>NaN</td>\n",
       "      <td>NaN</td>\n",
       "    </tr>\n",
       "    <tr>\n",
       "      <th>4</th>\n",
       "      <td>-9.262278</td>\n",
       "      <td>53.228333</td>\n",
       "      <td>2021-08-13 04:30:00+00:00</td>\n",
       "      <td>SmartBay Wave Buoy</td>\n",
       "      <td>5.26</td>\n",
       "      <td>227.16484</td>\n",
       "      <td>4.080</td>\n",
       "      <td>161.0</td>\n",
       "      <td>240.0</td>\n",
       "      <td>16.46</td>\n",
       "      <td>0.269</td>\n",
       "      <td>77.62637</td>\n",
       "    </tr>\n",
       "    <tr>\n",
       "      <th>5</th>\n",
       "      <td>-9.262278</td>\n",
       "      <td>53.228333</td>\n",
       "      <td>2021-08-13 04:35:00+00:00</td>\n",
       "      <td>SmartBay Wave Buoy</td>\n",
       "      <td>NaN</td>\n",
       "      <td>NaN</td>\n",
       "      <td>NaN</td>\n",
       "      <td>NaN</td>\n",
       "      <td>NaN</td>\n",
       "      <td>16.46</td>\n",
       "      <td>NaN</td>\n",
       "      <td>NaN</td>\n",
       "    </tr>\n",
       "    <tr>\n",
       "      <th>...</th>\n",
       "      <td>...</td>\n",
       "      <td>...</td>\n",
       "      <td>...</td>\n",
       "      <td>...</td>\n",
       "      <td>...</td>\n",
       "      <td>...</td>\n",
       "      <td>...</td>\n",
       "      <td>...</td>\n",
       "      <td>...</td>\n",
       "      <td>...</td>\n",
       "      <td>...</td>\n",
       "      <td>...</td>\n",
       "    </tr>\n",
       "    <tr>\n",
       "      <th>16722</th>\n",
       "      <td>-10.29737</td>\n",
       "      <td>54.2753</td>\n",
       "      <td>2022-08-12 06:05:00+00:00</td>\n",
       "      <td>AMETS Berth A Wave Buoy</td>\n",
       "      <td>10.00</td>\n",
       "      <td>285.50000</td>\n",
       "      <td>6.061</td>\n",
       "      <td>114.0</td>\n",
       "      <td>NaN</td>\n",
       "      <td>16.25</td>\n",
       "      <td>NaN</td>\n",
       "      <td>NaN</td>\n",
       "    </tr>\n",
       "    <tr>\n",
       "      <th>16723</th>\n",
       "      <td>-10.29737</td>\n",
       "      <td>54.2753</td>\n",
       "      <td>2022-08-12 06:35:00+00:00</td>\n",
       "      <td>AMETS Berth A Wave Buoy</td>\n",
       "      <td>8.33</td>\n",
       "      <td>293.90000</td>\n",
       "      <td>5.970</td>\n",
       "      <td>115.0</td>\n",
       "      <td>NaN</td>\n",
       "      <td>16.25</td>\n",
       "      <td>NaN</td>\n",
       "      <td>NaN</td>\n",
       "    </tr>\n",
       "    <tr>\n",
       "      <th>16724</th>\n",
       "      <td>-10.29737</td>\n",
       "      <td>54.2753</td>\n",
       "      <td>2022-08-12 07:05:00+00:00</td>\n",
       "      <td>AMETS Berth A Wave Buoy</td>\n",
       "      <td>9.09</td>\n",
       "      <td>281.30000</td>\n",
       "      <td>5.970</td>\n",
       "      <td>118.0</td>\n",
       "      <td>NaN</td>\n",
       "      <td>16.25</td>\n",
       "      <td>NaN</td>\n",
       "      <td>NaN</td>\n",
       "    </tr>\n",
       "    <tr>\n",
       "      <th>16725</th>\n",
       "      <td>-10.29737</td>\n",
       "      <td>54.2753</td>\n",
       "      <td>2022-08-12 07:35:00+00:00</td>\n",
       "      <td>AMETS Berth A Wave Buoy</td>\n",
       "      <td>9.09</td>\n",
       "      <td>281.30000</td>\n",
       "      <td>5.797</td>\n",
       "      <td>116.0</td>\n",
       "      <td>NaN</td>\n",
       "      <td>16.25</td>\n",
       "      <td>NaN</td>\n",
       "      <td>NaN</td>\n",
       "    </tr>\n",
       "    <tr>\n",
       "      <th>16726</th>\n",
       "      <td>-10.29737</td>\n",
       "      <td>54.2753</td>\n",
       "      <td>2022-08-12 08:05:00+00:00</td>\n",
       "      <td>AMETS Berth A Wave Buoy</td>\n",
       "      <td>9.09</td>\n",
       "      <td>292.50000</td>\n",
       "      <td>5.882</td>\n",
       "      <td>115.0</td>\n",
       "      <td>NaN</td>\n",
       "      <td>16.25</td>\n",
       "      <td>NaN</td>\n",
       "      <td>NaN</td>\n",
       "    </tr>\n",
       "  </tbody>\n",
       "</table>\n",
       "<p>268999 rows × 12 columns</p>\n",
       "</div>"
      ],
      "text/plain": [
       "       longitude   latitude                      time  \\\n",
       "1      -9.262278  53.228333 2021-08-13 04:15:00+00:00   \n",
       "2      -9.262278  53.228333 2021-08-13 04:20:00+00:00   \n",
       "3      -9.262278  53.228333 2021-08-13 04:25:00+00:00   \n",
       "4      -9.262278  53.228333 2021-08-13 04:30:00+00:00   \n",
       "5      -9.262278  53.228333 2021-08-13 04:35:00+00:00   \n",
       "...          ...        ...                       ...   \n",
       "16722  -10.29737    54.2753 2022-08-12 06:05:00+00:00   \n",
       "16723  -10.29737    54.2753 2022-08-12 06:35:00+00:00   \n",
       "16724  -10.29737    54.2753 2022-08-12 07:05:00+00:00   \n",
       "16725  -10.29737    54.2753 2022-08-12 07:35:00+00:00   \n",
       "16726  -10.29737    54.2753 2022-08-12 08:05:00+00:00   \n",
       "\n",
       "                    station_id  PeakPeriod  PeakDirection  UpcrossPeriod  \\\n",
       "1           SmartBay Wave Buoy         NaN            NaN            NaN   \n",
       "2           SmartBay Wave Buoy         NaN            NaN            NaN   \n",
       "3           SmartBay Wave Buoy         NaN            NaN            NaN   \n",
       "4           SmartBay Wave Buoy        5.26      227.16484          4.080   \n",
       "5           SmartBay Wave Buoy         NaN            NaN            NaN   \n",
       "...                        ...         ...            ...            ...   \n",
       "16722  AMETS Berth A Wave Buoy       10.00      285.50000          6.061   \n",
       "16723  AMETS Berth A Wave Buoy        8.33      293.90000          5.970   \n",
       "16724  AMETS Berth A Wave Buoy        9.09      281.30000          5.970   \n",
       "16725  AMETS Berth A Wave Buoy        9.09      281.30000          5.797   \n",
       "16726  AMETS Berth A Wave Buoy        9.09      292.50000          5.882   \n",
       "\n",
       "       SignificantWaveHeight   Hmax  SeaTemperature  MeanCurSpeed  \\\n",
       "1                        NaN    NaN           16.46           NaN   \n",
       "2                        NaN    NaN           16.46         0.311   \n",
       "3                        NaN    NaN           16.46           NaN   \n",
       "4                      161.0  240.0           16.46         0.269   \n",
       "5                        NaN    NaN           16.46           NaN   \n",
       "...                      ...    ...             ...           ...   \n",
       "16722                  114.0    NaN           16.25           NaN   \n",
       "16723                  115.0    NaN           16.25           NaN   \n",
       "16724                  118.0    NaN           16.25           NaN   \n",
       "16725                  116.0    NaN           16.25           NaN   \n",
       "16726                  115.0    NaN           16.25           NaN   \n",
       "\n",
       "       MeanCurDirTo  \n",
       "1               NaN  \n",
       "2          81.31868  \n",
       "3               NaN  \n",
       "4          77.62637  \n",
       "5               NaN  \n",
       "...             ...  \n",
       "16722           NaN  \n",
       "16723           NaN  \n",
       "16724           NaN  \n",
       "16725           NaN  \n",
       "16726           NaN  \n",
       "\n",
       "[268999 rows x 12 columns]"
      ]
     },
     "execution_count": 22,
     "metadata": {},
     "output_type": "execute_result"
    }
   ],
   "source": [
    "w_data"
   ]
  },
  {
   "cell_type": "markdown",
   "id": "949c53b1",
   "metadata": {},
   "source": [
    "## Creating databases"
   ]
  },
  {
   "cell_type": "markdown",
   "id": "5530aa50",
   "metadata": {},
   "source": [
    "### Tides database"
   ]
  },
  {
   "cell_type": "code",
   "execution_count": 23,
   "id": "9dd66f3c",
   "metadata": {},
   "outputs": [],
   "source": [
    "#Creating the connection on a new database\n",
    "t_conn = sqlite3.connect('tides.db')\n",
    "\n",
    "#Verifying if the table already exists inside the database. In case it does exist, drops the table and creates a new one\n",
    "try: t_data.to_sql('Tides', t_conn)\n",
    "except Exception as e:\n",
    "    if \"Table 'Tides' already exists.\" in str(e):\n",
    "        t_conn.cursor().execute('DROP TABLE Tides')\n",
    "        t_data.to_sql('Tides', t_conn)     \n",
    "    else: raise e\n"
   ]
  },
  {
   "cell_type": "markdown",
   "id": "3ed875b5",
   "metadata": {},
   "source": [
    "### Waves database"
   ]
  },
  {
   "cell_type": "code",
   "execution_count": 24,
   "id": "607fe867",
   "metadata": {},
   "outputs": [],
   "source": [
    "#Creating the connection on a new database\n",
    "w_conn = sqlite3.connect('waves.db')\n",
    "\n",
    "#Verifying if the table already exists inside the database. In case it does exist, drops the table and creates a new one\n",
    "try: w_data.to_sql('Waves', w_conn)\n",
    "except Exception as e:\n",
    "    if \"Table 'Waves' already exists.\" in str(e):\n",
    "        w_conn.cursor().execute('DROP TABLE Waves')\n",
    "        w_data.to_sql('Waves', w_conn)     \n",
    "    else: raise e"
   ]
  },
  {
   "cell_type": "markdown",
   "id": "47dd4a8c",
   "metadata": {},
   "source": [
    "# Question 1:\n",
    "## What is the lowest temperature of each one of the Bouys?"
   ]
  },
  {
   "cell_type": "markdown",
   "id": "2a1c10ee",
   "metadata": {},
   "source": [
    "Creating SQL query to find the minimum values for each buoy"
   ]
  },
  {
   "cell_type": "code",
   "execution_count": 25,
   "id": "a18aa072",
   "metadata": {},
   "outputs": [],
   "source": [
    "q1_query = 'SELECT MIN(SeaTemperature) as min_temp, station_id FROM Waves GROUP BY station_id'\n",
    "q1_df = pd.read_sql(q1_query, w_conn)"
   ]
  },
  {
   "cell_type": "markdown",
   "id": "f68b5f1e",
   "metadata": {},
   "source": [
    "Checking if we have the right values"
   ]
  },
  {
   "cell_type": "code",
   "execution_count": 26,
   "id": "e0d55321",
   "metadata": {
    "scrolled": false
   },
   "outputs": [
    {
     "data": {
      "text/html": [
       "<div>\n",
       "<style scoped>\n",
       "    .dataframe tbody tr th:only-of-type {\n",
       "        vertical-align: middle;\n",
       "    }\n",
       "\n",
       "    .dataframe tbody tr th {\n",
       "        vertical-align: top;\n",
       "    }\n",
       "\n",
       "    .dataframe thead th {\n",
       "        text-align: right;\n",
       "    }\n",
       "</style>\n",
       "<table border=\"1\" class=\"dataframe\">\n",
       "  <thead>\n",
       "    <tr style=\"text-align: right;\">\n",
       "      <th></th>\n",
       "      <th>min_temp</th>\n",
       "      <th>station_id</th>\n",
       "    </tr>\n",
       "  </thead>\n",
       "  <tbody>\n",
       "    <tr>\n",
       "      <th>0</th>\n",
       "      <td>8.55</td>\n",
       "      <td>AMETS Berth A Wave Buoy</td>\n",
       "    </tr>\n",
       "    <tr>\n",
       "      <th>1</th>\n",
       "      <td>8.15</td>\n",
       "      <td>AMETS Berth B Wave Buoy</td>\n",
       "    </tr>\n",
       "    <tr>\n",
       "      <th>2</th>\n",
       "      <td>5.27</td>\n",
       "      <td>Bantry Bay</td>\n",
       "    </tr>\n",
       "    <tr>\n",
       "      <th>3</th>\n",
       "      <td>4.47</td>\n",
       "      <td>Brandon Bay</td>\n",
       "    </tr>\n",
       "    <tr>\n",
       "      <th>4</th>\n",
       "      <td>7.50</td>\n",
       "      <td>Clew Bay</td>\n",
       "    </tr>\n",
       "    <tr>\n",
       "      <th>5</th>\n",
       "      <td>5.31</td>\n",
       "      <td>SmartBay Wave Buoy</td>\n",
       "    </tr>\n",
       "  </tbody>\n",
       "</table>\n",
       "</div>"
      ],
      "text/plain": [
       "   min_temp               station_id\n",
       "0      8.55  AMETS Berth A Wave Buoy\n",
       "1      8.15  AMETS Berth B Wave Buoy\n",
       "2      5.27               Bantry Bay\n",
       "3      4.47              Brandon Bay\n",
       "4      7.50                 Clew Bay\n",
       "5      5.31       SmartBay Wave Buoy"
      ]
     },
     "execution_count": 26,
     "metadata": {},
     "output_type": "execute_result"
    }
   ],
   "source": [
    "q1_df"
   ]
  },
  {
   "cell_type": "markdown",
   "id": "3be4afc3",
   "metadata": {},
   "source": [
    "Plotting a barchart with Seaborn"
   ]
  },
  {
   "cell_type": "code",
   "execution_count": 27,
   "id": "3b8dbde3",
   "metadata": {
    "scrolled": false
   },
   "outputs": [
    {
     "data": {
      "image/png": "[encoded data removed]",
      "text/plain": [
       "<Figure size 432x288 with 1 Axes>"
      ]
     },
     "metadata": {},
     "output_type": "display_data"
    }
   ],
   "source": [
    "sns.set_theme(style=\"whitegrid\")\n",
    "ax = sns.barplot(x=\"station_id\", y=\"min_temp\", data=q1_df)\n",
    "plt.title('Minimum Temperature at each Buoy')\n",
    "plt.xlabel('Buoy Name')\n",
    "plt.ylabel('Minimum Temperature')\n",
    "plt.xticks(rotation=90)\n",
    "plt.show()"
   ]
  },
  {
   "cell_type": "markdown",
   "id": "e59d07d4",
   "metadata": {},
   "source": [
    "### Answer:\n",
    "The lowest temperature for each buoy:\n",
    "* **AMETS Berth A Wave Buoy** = 8.55°C\n",
    "* **AMETS Berth B Wave Buoy** = 8.15°C\n",
    "* **Bantry Bay** = 5.27°C\n",
    "* **Brandon Bay** = 4.47°C\n",
    "* **Clew Bay** = 7.50°C\n",
    "* **SmartBay Wave Buoy** = 5.31°C"
   ]
  },
  {
   "cell_type": "markdown",
   "id": "68d0d8c6",
   "metadata": {},
   "source": [
    "## a. Which usually month it occurs?"
   ]
  },
  {
   "cell_type": "markdown",
   "id": "1effd9ea",
   "metadata": {},
   "source": [
    "Creating a SQL query to find at which month it usually occurs"
   ]
  },
  {
   "cell_type": "code",
   "execution_count": 28,
   "id": "a0366090",
   "metadata": {},
   "outputs": [],
   "source": [
    "q1_a_query = 'SELECT MIN(SeaTemperature) as min_temp, station_id, strftime(\"%m\", DATE(time)) as month FROM Waves GROUP BY station_id'\n",
    "q1_a_df = pd.read_sql(q1_a_query, w_conn)"
   ]
  },
  {
   "cell_type": "markdown",
   "id": "dd33d3fe",
   "metadata": {},
   "source": [
    "Checking if we have the right values"
   ]
  },
  {
   "cell_type": "code",
   "execution_count": 29,
   "id": "732172ee",
   "metadata": {
    "scrolled": true
   },
   "outputs": [
    {
     "data": {
      "text/html": [
       "<div>\n",
       "<style scoped>\n",
       "    .dataframe tbody tr th:only-of-type {\n",
       "        vertical-align: middle;\n",
       "    }\n",
       "\n",
       "    .dataframe tbody tr th {\n",
       "        vertical-align: top;\n",
       "    }\n",
       "\n",
       "    .dataframe thead th {\n",
       "        text-align: right;\n",
       "    }\n",
       "</style>\n",
       "<table border=\"1\" class=\"dataframe\">\n",
       "  <thead>\n",
       "    <tr style=\"text-align: right;\">\n",
       "      <th></th>\n",
       "      <th>min_temp</th>\n",
       "      <th>station_id</th>\n",
       "      <th>month</th>\n",
       "    </tr>\n",
       "  </thead>\n",
       "  <tbody>\n",
       "    <tr>\n",
       "      <th>0</th>\n",
       "      <td>8.55</td>\n",
       "      <td>AMETS Berth A Wave Buoy</td>\n",
       "      <td>03</td>\n",
       "    </tr>\n",
       "    <tr>\n",
       "      <th>1</th>\n",
       "      <td>8.15</td>\n",
       "      <td>AMETS Berth B Wave Buoy</td>\n",
       "      <td>03</td>\n",
       "    </tr>\n",
       "    <tr>\n",
       "      <th>2</th>\n",
       "      <td>5.27</td>\n",
       "      <td>Bantry Bay</td>\n",
       "      <td>03</td>\n",
       "    </tr>\n",
       "    <tr>\n",
       "      <th>3</th>\n",
       "      <td>4.47</td>\n",
       "      <td>Brandon Bay</td>\n",
       "      <td>03</td>\n",
       "    </tr>\n",
       "    <tr>\n",
       "      <th>4</th>\n",
       "      <td>7.50</td>\n",
       "      <td>Clew Bay</td>\n",
       "      <td>03</td>\n",
       "    </tr>\n",
       "    <tr>\n",
       "      <th>5</th>\n",
       "      <td>5.31</td>\n",
       "      <td>SmartBay Wave Buoy</td>\n",
       "      <td>01</td>\n",
       "    </tr>\n",
       "  </tbody>\n",
       "</table>\n",
       "</div>"
      ],
      "text/plain": [
       "   min_temp               station_id month\n",
       "0      8.55  AMETS Berth A Wave Buoy    03\n",
       "1      8.15  AMETS Berth B Wave Buoy    03\n",
       "2      5.27               Bantry Bay    03\n",
       "3      4.47              Brandon Bay    03\n",
       "4      7.50                 Clew Bay    03\n",
       "5      5.31       SmartBay Wave Buoy    01"
      ]
     },
     "execution_count": 29,
     "metadata": {},
     "output_type": "execute_result"
    }
   ],
   "source": [
    "q1_a_df"
   ]
  },
  {
   "cell_type": "markdown",
   "id": "4eb83df4",
   "metadata": {},
   "source": [
    "Replacing numbers to month names"
   ]
  },
  {
   "cell_type": "code",
   "execution_count": 30,
   "id": "6a2e0f8c",
   "metadata": {},
   "outputs": [],
   "source": [
    "q1_a_df['month'] = q1_a_df['month'].replace('03', 'March')\n",
    "q1_a_df['month'] = q1_a_df['month'].replace('01', 'January')"
   ]
  },
  {
   "cell_type": "markdown",
   "id": "46309561",
   "metadata": {},
   "source": [
    "Plotting a barchart with seaborn"
   ]
  },
  {
   "cell_type": "code",
   "execution_count": 31,
   "id": "f03748a5",
   "metadata": {},
   "outputs": [
    {
     "data": {
      "image/png": "[encoded data removed]",
      "text/plain": [
       "<Figure size 432x288 with 1 Axes>"
      ]
     },
     "metadata": {},
     "output_type": "display_data"
    }
   ],
   "source": [
    "sns.set_theme(style=\"whitegrid\")\n",
    "ax = sns.barplot(x=\"station_id\", y=\"min_temp\", data=q1_a_df, hue='month')\n",
    "plt.title('Minimum Temperature at each Buoy with respective months')\n",
    "plt.xlabel('Buoy Name')\n",
    "plt.ylabel('Minimum Temperature')\n",
    "plt.xticks(rotation=90)\n",
    "plt.show()"
   ]
  },
  {
   "cell_type": "markdown",
   "id": "789aa850",
   "metadata": {},
   "source": [
    "### Answer:\n",
    "Analysing the barchat, we can see that most of the minimum temperatures occurs during March. However, at the SmarBay Wave Buoy, the lowest temperature was recorded in January."
   ]
  },
  {
   "cell_type": "markdown",
   "id": "faa0d442",
   "metadata": {},
   "source": [
    "## Question 2:\n",
    "### Where (lat/long) do we have the biggest water level?\n"
   ]
  },
  {
   "cell_type": "markdown",
   "id": "21d91040",
   "metadata": {},
   "source": [
    "Creating a SQL query to find the biggest water level, it's latitude and longitude"
   ]
  },
  {
   "cell_type": "code",
   "execution_count": 32,
   "id": "7943f484",
   "metadata": {},
   "outputs": [],
   "source": [
    "q2_query = 'SELECT MAX(Water_Level_LAT) as max_water_level, latitude, longitude from Tides'\n",
    "q2_df = pd.read_sql(q2_query, t_conn)"
   ]
  },
  {
   "cell_type": "markdown",
   "id": "6837508c",
   "metadata": {},
   "source": [
    "Checking if we have the right values"
   ]
  },
  {
   "cell_type": "code",
   "execution_count": 33,
   "id": "4807b6f0",
   "metadata": {
    "scrolled": true
   },
   "outputs": [
    {
     "data": {
      "text/html": [
       "<div>\n",
       "<style scoped>\n",
       "    .dataframe tbody tr th:only-of-type {\n",
       "        vertical-align: middle;\n",
       "    }\n",
       "\n",
       "    .dataframe tbody tr th {\n",
       "        vertical-align: top;\n",
       "    }\n",
       "\n",
       "    .dataframe thead th {\n",
       "        text-align: right;\n",
       "    }\n",
       "</style>\n",
       "<table border=\"1\" class=\"dataframe\">\n",
       "  <thead>\n",
       "    <tr style=\"text-align: right;\">\n",
       "      <th></th>\n",
       "      <th>max_water_level</th>\n",
       "      <th>latitude</th>\n",
       "      <th>longitude</th>\n",
       "    </tr>\n",
       "  </thead>\n",
       "  <tbody>\n",
       "    <tr>\n",
       "      <th>0</th>\n",
       "      <td>6.143</td>\n",
       "      <td>53.269</td>\n",
       "      <td>-9.048</td>\n",
       "    </tr>\n",
       "  </tbody>\n",
       "</table>\n",
       "</div>"
      ],
      "text/plain": [
       "   max_water_level latitude longitude\n",
       "0            6.143   53.269    -9.048"
      ]
     },
     "execution_count": 33,
     "metadata": {},
     "output_type": "execute_result"
    }
   ],
   "source": [
    "q2_df"
   ]
  },
  {
   "cell_type": "markdown",
   "id": "10eaa6c1",
   "metadata": {},
   "source": [
    "### Answer:\n",
    "The biggest water level is 6.143 meters and it can be found at 52.269 degrees north (latitude) and -9.048 degrees east (longitude)."
   ]
  },
  {
   "cell_type": "markdown",
   "id": "8bb36eb5",
   "metadata": {},
   "source": [
    "## a. Which usually month it occurs?"
   ]
  },
  {
   "cell_type": "markdown",
   "id": "a53f225d",
   "metadata": {},
   "source": [
    "Creating a SQL query to find at which month it usually occurs"
   ]
  },
  {
   "cell_type": "code",
   "execution_count": 34,
   "id": "0ab90afd",
   "metadata": {},
   "outputs": [],
   "source": [
    "q2_a_query = 'SELECT MAX(Water_Level_LAT) as max_water_level, longitude, latitude, strftime(\"%m\", DATE(time)) as month from Tides'\n",
    "q2_a_df = pd.read_sql(q2_a_query, t_conn)"
   ]
  },
  {
   "cell_type": "markdown",
   "id": "33f4b23f",
   "metadata": {},
   "source": [
    "Replacing number to month name"
   ]
  },
  {
   "cell_type": "code",
   "execution_count": 35,
   "id": "a06c1edf",
   "metadata": {},
   "outputs": [],
   "source": [
    "q2_a_df['month'] = q2_a_df['month'].replace('12', 'December')"
   ]
  },
  {
   "cell_type": "markdown",
   "id": "8fbbca49",
   "metadata": {},
   "source": [
    "Checking if we have the right values"
   ]
  },
  {
   "cell_type": "code",
   "execution_count": 36,
   "id": "5833c057",
   "metadata": {
    "scrolled": true
   },
   "outputs": [
    {
     "data": {
      "text/html": [
       "<div>\n",
       "<style scoped>\n",
       "    .dataframe tbody tr th:only-of-type {\n",
       "        vertical-align: middle;\n",
       "    }\n",
       "\n",
       "    .dataframe tbody tr th {\n",
       "        vertical-align: top;\n",
       "    }\n",
       "\n",
       "    .dataframe thead th {\n",
       "        text-align: right;\n",
       "    }\n",
       "</style>\n",
       "<table border=\"1\" class=\"dataframe\">\n",
       "  <thead>\n",
       "    <tr style=\"text-align: right;\">\n",
       "      <th></th>\n",
       "      <th>max_water_level</th>\n",
       "      <th>longitude</th>\n",
       "      <th>latitude</th>\n",
       "      <th>month</th>\n",
       "    </tr>\n",
       "  </thead>\n",
       "  <tbody>\n",
       "    <tr>\n",
       "      <th>0</th>\n",
       "      <td>6.143</td>\n",
       "      <td>-9.048</td>\n",
       "      <td>53.269</td>\n",
       "      <td>December</td>\n",
       "    </tr>\n",
       "  </tbody>\n",
       "</table>\n",
       "</div>"
      ],
      "text/plain": [
       "   max_water_level longitude latitude     month\n",
       "0            6.143    -9.048   53.269  December"
      ]
     },
     "execution_count": 36,
     "metadata": {},
     "output_type": "execute_result"
    }
   ],
   "source": [
    "q2_a_df"
   ]
  },
  {
   "cell_type": "markdown",
   "id": "21290614",
   "metadata": {},
   "source": [
    "### Answer:\n",
    "The biggest water level can be found in December."
   ]
  },
  {
   "cell_type": "markdown",
   "id": "63f53644",
   "metadata": {},
   "source": [
    "## Question 3:\n",
    "### How the Wave Lenghts correlates with Sea Temperature?"
   ]
  },
  {
   "cell_type": "code",
   "execution_count": 195,
   "id": "f3aecd8f",
   "metadata": {
    "scrolled": true
   },
   "outputs": [
    {
     "data": {
      "text/html": [
       "<div>\n",
       "<style scoped>\n",
       "    .dataframe tbody tr th:only-of-type {\n",
       "        vertical-align: middle;\n",
       "    }\n",
       "\n",
       "    .dataframe tbody tr th {\n",
       "        vertical-align: top;\n",
       "    }\n",
       "\n",
       "    .dataframe thead th {\n",
       "        text-align: right;\n",
       "    }\n",
       "</style>\n",
       "<table border=\"1\" class=\"dataframe\">\n",
       "  <thead>\n",
       "    <tr style=\"text-align: right;\">\n",
       "      <th></th>\n",
       "      <th>longitude</th>\n",
       "      <th>latitude</th>\n",
       "      <th>time</th>\n",
       "      <th>station_id</th>\n",
       "      <th>PeakPeriod</th>\n",
       "      <th>PeakDirection</th>\n",
       "      <th>UpcrossPeriod</th>\n",
       "      <th>SignificantWaveHeight</th>\n",
       "      <th>Hmax</th>\n",
       "      <th>SeaTemperature</th>\n",
       "      <th>MeanCurSpeed</th>\n",
       "      <th>MeanCurDirTo</th>\n",
       "    </tr>\n",
       "  </thead>\n",
       "  <tbody>\n",
       "    <tr>\n",
       "      <th>52342</th>\n",
       "      <td>-10.094833</td>\n",
       "      <td>52.282333</td>\n",
       "      <td>2022-03-03 20:30:00+00:00</td>\n",
       "      <td>Brandon Bay</td>\n",
       "      <td>22.22</td>\n",
       "      <td>218.813190</td>\n",
       "      <td>6.43</td>\n",
       "      <td>0.0</td>\n",
       "      <td>NaN</td>\n",
       "      <td>6.11</td>\n",
       "      <td>NaN</td>\n",
       "      <td>NaN</td>\n",
       "    </tr>\n",
       "    <tr>\n",
       "      <th>52348</th>\n",
       "      <td>-10.094833</td>\n",
       "      <td>52.282333</td>\n",
       "      <td>2022-03-03 21:00:00+00:00</td>\n",
       "      <td>Brandon Bay</td>\n",
       "      <td>25.00</td>\n",
       "      <td>107.780220</td>\n",
       "      <td>6.75</td>\n",
       "      <td>0.0</td>\n",
       "      <td>NaN</td>\n",
       "      <td>5.44</td>\n",
       "      <td>NaN</td>\n",
       "      <td>NaN</td>\n",
       "    </tr>\n",
       "    <tr>\n",
       "      <th>52354</th>\n",
       "      <td>-10.094833</td>\n",
       "      <td>52.282333</td>\n",
       "      <td>2022-03-03 21:30:00+00:00</td>\n",
       "      <td>Brandon Bay</td>\n",
       "      <td>25.00</td>\n",
       "      <td>112.791210</td>\n",
       "      <td>7.35</td>\n",
       "      <td>0.0</td>\n",
       "      <td>NaN</td>\n",
       "      <td>5.69</td>\n",
       "      <td>NaN</td>\n",
       "      <td>NaN</td>\n",
       "    </tr>\n",
       "    <tr>\n",
       "      <th>52360</th>\n",
       "      <td>-10.094833</td>\n",
       "      <td>52.282333</td>\n",
       "      <td>2022-03-03 22:00:00+00:00</td>\n",
       "      <td>Brandon Bay</td>\n",
       "      <td>25.00</td>\n",
       "      <td>145.494500</td>\n",
       "      <td>6.66</td>\n",
       "      <td>0.0</td>\n",
       "      <td>NaN</td>\n",
       "      <td>5.35</td>\n",
       "      <td>NaN</td>\n",
       "      <td>NaN</td>\n",
       "    </tr>\n",
       "    <tr>\n",
       "      <th>52366</th>\n",
       "      <td>-10.094833</td>\n",
       "      <td>52.282333</td>\n",
       "      <td>2022-03-03 22:30:00+00:00</td>\n",
       "      <td>Brandon Bay</td>\n",
       "      <td>22.22</td>\n",
       "      <td>182.857150</td>\n",
       "      <td>6.13</td>\n",
       "      <td>0.0</td>\n",
       "      <td>NaN</td>\n",
       "      <td>4.89</td>\n",
       "      <td>NaN</td>\n",
       "      <td>NaN</td>\n",
       "    </tr>\n",
       "    <tr>\n",
       "      <th>52372</th>\n",
       "      <td>-10.094833</td>\n",
       "      <td>52.282333</td>\n",
       "      <td>2022-03-03 23:00:00+00:00</td>\n",
       "      <td>Brandon Bay</td>\n",
       "      <td>25.00</td>\n",
       "      <td>68.219780</td>\n",
       "      <td>6.41</td>\n",
       "      <td>0.0</td>\n",
       "      <td>NaN</td>\n",
       "      <td>4.68</td>\n",
       "      <td>NaN</td>\n",
       "      <td>NaN</td>\n",
       "    </tr>\n",
       "    <tr>\n",
       "      <th>52378</th>\n",
       "      <td>-10.094833</td>\n",
       "      <td>52.282333</td>\n",
       "      <td>2022-03-03 23:30:00+00:00</td>\n",
       "      <td>Brandon Bay</td>\n",
       "      <td>22.22</td>\n",
       "      <td>51.868134</td>\n",
       "      <td>5.87</td>\n",
       "      <td>0.0</td>\n",
       "      <td>NaN</td>\n",
       "      <td>4.51</td>\n",
       "      <td>NaN</td>\n",
       "      <td>NaN</td>\n",
       "    </tr>\n",
       "    <tr>\n",
       "      <th>52384</th>\n",
       "      <td>-10.094833</td>\n",
       "      <td>52.282333</td>\n",
       "      <td>2022-03-04 00:00:00+00:00</td>\n",
       "      <td>Brandon Bay</td>\n",
       "      <td>20.00</td>\n",
       "      <td>14.329670</td>\n",
       "      <td>5.66</td>\n",
       "      <td>0.0</td>\n",
       "      <td>NaN</td>\n",
       "      <td>5.02</td>\n",
       "      <td>NaN</td>\n",
       "      <td>NaN</td>\n",
       "    </tr>\n",
       "    <tr>\n",
       "      <th>52390</th>\n",
       "      <td>-10.094833</td>\n",
       "      <td>52.282333</td>\n",
       "      <td>2022-03-04 00:30:00+00:00</td>\n",
       "      <td>Brandon Bay</td>\n",
       "      <td>25.00</td>\n",
       "      <td>122.901100</td>\n",
       "      <td>6.54</td>\n",
       "      <td>0.0</td>\n",
       "      <td>NaN</td>\n",
       "      <td>5.35</td>\n",
       "      <td>NaN</td>\n",
       "      <td>NaN</td>\n",
       "    </tr>\n",
       "    <tr>\n",
       "      <th>52396</th>\n",
       "      <td>-10.094833</td>\n",
       "      <td>52.282333</td>\n",
       "      <td>2022-03-04 01:00:00+00:00</td>\n",
       "      <td>Brandon Bay</td>\n",
       "      <td>22.22</td>\n",
       "      <td>217.494500</td>\n",
       "      <td>6.78</td>\n",
       "      <td>0.0</td>\n",
       "      <td>NaN</td>\n",
       "      <td>5.65</td>\n",
       "      <td>NaN</td>\n",
       "      <td>NaN</td>\n",
       "    </tr>\n",
       "    <tr>\n",
       "      <th>52402</th>\n",
       "      <td>-10.094833</td>\n",
       "      <td>52.282333</td>\n",
       "      <td>2022-03-04 01:30:00+00:00</td>\n",
       "      <td>Brandon Bay</td>\n",
       "      <td>22.22</td>\n",
       "      <td>188.747250</td>\n",
       "      <td>6.22</td>\n",
       "      <td>0.0</td>\n",
       "      <td>NaN</td>\n",
       "      <td>5.82</td>\n",
       "      <td>NaN</td>\n",
       "      <td>NaN</td>\n",
       "    </tr>\n",
       "    <tr>\n",
       "      <th>52408</th>\n",
       "      <td>-10.094833</td>\n",
       "      <td>52.282333</td>\n",
       "      <td>2022-03-04 02:00:00+00:00</td>\n",
       "      <td>Brandon Bay</td>\n",
       "      <td>25.00</td>\n",
       "      <td>316.747250</td>\n",
       "      <td>6.23</td>\n",
       "      <td>0.0</td>\n",
       "      <td>NaN</td>\n",
       "      <td>5.90</td>\n",
       "      <td>NaN</td>\n",
       "      <td>NaN</td>\n",
       "    </tr>\n",
       "    <tr>\n",
       "      <th>52414</th>\n",
       "      <td>-10.094833</td>\n",
       "      <td>52.282333</td>\n",
       "      <td>2022-03-04 02:30:00+00:00</td>\n",
       "      <td>Brandon Bay</td>\n",
       "      <td>25.00</td>\n",
       "      <td>347.428560</td>\n",
       "      <td>6.07</td>\n",
       "      <td>0.0</td>\n",
       "      <td>NaN</td>\n",
       "      <td>6.20</td>\n",
       "      <td>NaN</td>\n",
       "      <td>NaN</td>\n",
       "    </tr>\n",
       "  </tbody>\n",
       "</table>\n",
       "</div>"
      ],
      "text/plain": [
       "        longitude   latitude                      time   station_id  \\\n",
       "52342  -10.094833  52.282333 2022-03-03 20:30:00+00:00  Brandon Bay   \n",
       "52348  -10.094833  52.282333 2022-03-03 21:00:00+00:00  Brandon Bay   \n",
       "52354  -10.094833  52.282333 2022-03-03 21:30:00+00:00  Brandon Bay   \n",
       "52360  -10.094833  52.282333 2022-03-03 22:00:00+00:00  Brandon Bay   \n",
       "52366  -10.094833  52.282333 2022-03-03 22:30:00+00:00  Brandon Bay   \n",
       "52372  -10.094833  52.282333 2022-03-03 23:00:00+00:00  Brandon Bay   \n",
       "52378  -10.094833  52.282333 2022-03-03 23:30:00+00:00  Brandon Bay   \n",
       "52384  -10.094833  52.282333 2022-03-04 00:00:00+00:00  Brandon Bay   \n",
       "52390  -10.094833  52.282333 2022-03-04 00:30:00+00:00  Brandon Bay   \n",
       "52396  -10.094833  52.282333 2022-03-04 01:00:00+00:00  Brandon Bay   \n",
       "52402  -10.094833  52.282333 2022-03-04 01:30:00+00:00  Brandon Bay   \n",
       "52408  -10.094833  52.282333 2022-03-04 02:00:00+00:00  Brandon Bay   \n",
       "52414  -10.094833  52.282333 2022-03-04 02:30:00+00:00  Brandon Bay   \n",
       "\n",
       "       PeakPeriod  PeakDirection  UpcrossPeriod  SignificantWaveHeight  Hmax  \\\n",
       "52342       22.22     218.813190           6.43                    0.0   NaN   \n",
       "52348       25.00     107.780220           6.75                    0.0   NaN   \n",
       "52354       25.00     112.791210           7.35                    0.0   NaN   \n",
       "52360       25.00     145.494500           6.66                    0.0   NaN   \n",
       "52366       22.22     182.857150           6.13                    0.0   NaN   \n",
       "52372       25.00      68.219780           6.41                    0.0   NaN   \n",
       "52378       22.22      51.868134           5.87                    0.0   NaN   \n",
       "52384       20.00      14.329670           5.66                    0.0   NaN   \n",
       "52390       25.00     122.901100           6.54                    0.0   NaN   \n",
       "52396       22.22     217.494500           6.78                    0.0   NaN   \n",
       "52402       22.22     188.747250           6.22                    0.0   NaN   \n",
       "52408       25.00     316.747250           6.23                    0.0   NaN   \n",
       "52414       25.00     347.428560           6.07                    0.0   NaN   \n",
       "\n",
       "       SeaTemperature  MeanCurSpeed  MeanCurDirTo  \n",
       "52342            6.11           NaN           NaN  \n",
       "52348            5.44           NaN           NaN  \n",
       "52354            5.69           NaN           NaN  \n",
       "52360            5.35           NaN           NaN  \n",
       "52366            4.89           NaN           NaN  \n",
       "52372            4.68           NaN           NaN  \n",
       "52378            4.51           NaN           NaN  \n",
       "52384            5.02           NaN           NaN  \n",
       "52390            5.35           NaN           NaN  \n",
       "52396            5.65           NaN           NaN  \n",
       "52402            5.82           NaN           NaN  \n",
       "52408            5.90           NaN           NaN  \n",
       "52414            6.20           NaN           NaN  "
      ]
     },
     "execution_count": 195,
     "metadata": {},
     "output_type": "execute_result"
    }
   ],
   "source": [
    "w_data.loc[(w_data['SignificantWaveHeight'] == 0)]"
   ]
  },
  {
   "cell_type": "markdown",
   "id": "a19d2d88",
   "metadata": {},
   "source": [
    "Creating a SQL query to fetch all the columns we'll be using to calculate the wave length."
   ]
  },
  {
   "cell_type": "code",
   "execution_count": 38,
   "id": "ceddbd3d",
   "metadata": {},
   "outputs": [],
   "source": [
    "q3_query = 'SELECT DISTINCT UpcrossPeriod as Period, SeaTemperature as Temperature, station_id as Station from Waves WHERE Period IS NOT NULL ORDER BY Period DESC' \n",
    "q3_df = pd.read_sql(q3_query, w_conn)"
   ]
  },
  {
   "cell_type": "markdown",
   "id": "c2f8e7d0",
   "metadata": {},
   "source": [
    "Checking if we have the right values"
   ]
  },
  {
   "cell_type": "code",
   "execution_count": 39,
   "id": "2d5d13f2",
   "metadata": {
    "scrolled": true
   },
   "outputs": [
    {
     "data": {
      "text/html": [
       "<div>\n",
       "<style scoped>\n",
       "    .dataframe tbody tr th:only-of-type {\n",
       "        vertical-align: middle;\n",
       "    }\n",
       "\n",
       "    .dataframe tbody tr th {\n",
       "        vertical-align: top;\n",
       "    }\n",
       "\n",
       "    .dataframe thead th {\n",
       "        text-align: right;\n",
       "    }\n",
       "</style>\n",
       "<table border=\"1\" class=\"dataframe\">\n",
       "  <thead>\n",
       "    <tr style=\"text-align: right;\">\n",
       "      <th></th>\n",
       "      <th>Period</th>\n",
       "      <th>Temperature</th>\n",
       "      <th>Station</th>\n",
       "    </tr>\n",
       "  </thead>\n",
       "  <tbody>\n",
       "    <tr>\n",
       "      <th>0</th>\n",
       "      <td>21.970</td>\n",
       "      <td>8.87</td>\n",
       "      <td>Brandon Bay</td>\n",
       "    </tr>\n",
       "    <tr>\n",
       "      <th>1</th>\n",
       "      <td>14.286</td>\n",
       "      <td>9.55</td>\n",
       "      <td>AMETS Berth A Wave Buoy</td>\n",
       "    </tr>\n",
       "    <tr>\n",
       "      <th>2</th>\n",
       "      <td>13.793</td>\n",
       "      <td>9.40</td>\n",
       "      <td>AMETS Berth B Wave Buoy</td>\n",
       "    </tr>\n",
       "    <tr>\n",
       "      <th>3</th>\n",
       "      <td>13.793</td>\n",
       "      <td>9.35</td>\n",
       "      <td>AMETS Berth B Wave Buoy</td>\n",
       "    </tr>\n",
       "    <tr>\n",
       "      <th>4</th>\n",
       "      <td>13.793</td>\n",
       "      <td>9.65</td>\n",
       "      <td>AMETS Berth A Wave Buoy</td>\n",
       "    </tr>\n",
       "    <tr>\n",
       "      <th>...</th>\n",
       "      <td>...</td>\n",
       "      <td>...</td>\n",
       "      <td>...</td>\n",
       "    </tr>\n",
       "    <tr>\n",
       "      <th>49400</th>\n",
       "      <td>1.420</td>\n",
       "      <td>15.45</td>\n",
       "      <td>Bantry Bay</td>\n",
       "    </tr>\n",
       "    <tr>\n",
       "      <th>49401</th>\n",
       "      <td>1.410</td>\n",
       "      <td>17.91</td>\n",
       "      <td>Bantry Bay</td>\n",
       "    </tr>\n",
       "    <tr>\n",
       "      <th>49402</th>\n",
       "      <td>1.410</td>\n",
       "      <td>15.41</td>\n",
       "      <td>Bantry Bay</td>\n",
       "    </tr>\n",
       "    <tr>\n",
       "      <th>49403</th>\n",
       "      <td>1.400</td>\n",
       "      <td>16.50</td>\n",
       "      <td>Bantry Bay</td>\n",
       "    </tr>\n",
       "    <tr>\n",
       "      <th>49404</th>\n",
       "      <td>1.400</td>\n",
       "      <td>15.62</td>\n",
       "      <td>Bantry Bay</td>\n",
       "    </tr>\n",
       "  </tbody>\n",
       "</table>\n",
       "<p>49405 rows × 3 columns</p>\n",
       "</div>"
      ],
      "text/plain": [
       "       Period  Temperature                  Station\n",
       "0      21.970         8.87              Brandon Bay\n",
       "1      14.286         9.55  AMETS Berth A Wave Buoy\n",
       "2      13.793         9.40  AMETS Berth B Wave Buoy\n",
       "3      13.793         9.35  AMETS Berth B Wave Buoy\n",
       "4      13.793         9.65  AMETS Berth A Wave Buoy\n",
       "...       ...          ...                      ...\n",
       "49400   1.420        15.45               Bantry Bay\n",
       "49401   1.410        17.91               Bantry Bay\n",
       "49402   1.410        15.41               Bantry Bay\n",
       "49403   1.400        16.50               Bantry Bay\n",
       "49404   1.400        15.62               Bantry Bay\n",
       "\n",
       "[49405 rows x 3 columns]"
      ]
     },
     "execution_count": 39,
     "metadata": {},
     "output_type": "execute_result"
    }
   ],
   "source": [
    "q3_df"
   ]
  },
  {
   "cell_type": "markdown",
   "id": "ced0aaba",
   "metadata": {},
   "source": [
    "**Since the question is asking for Wave Length and there is no data for this feature, we'll need to calculate wave length using the features available in the waves dataset.**"
   ]
  },
  {
   "cell_type": "markdown",
   "id": "548d9be4",
   "metadata": {},
   "source": [
    "The wavelength (L) is calculated using: L = gT² /2π, where g=9.8 m/s2 and T is wave period in seconds."
   ]
  },
  {
   "cell_type": "markdown",
   "id": "0d752e2a",
   "metadata": {},
   "source": [
    "For the period feature, I'll be using \"UpcrossPeriod\" instead of \"PeakPeriod\". \n",
    "* Upcross periods are based on calculating an average periods, so this will yield an average wavelength. \n",
    "* Peak periods is the most energetic wave and using it in the calculation will yield the largest wavelength. \n",
    "\n",
    "Since we want an average of the wave length value, we'll be using \"UpcrossPeriod\"."
   ]
  },
  {
   "cell_type": "code",
   "execution_count": 40,
   "id": "714d2040",
   "metadata": {},
   "outputs": [],
   "source": [
    "g = 9.8\n",
    "pi = 3.14\n",
    "q3_df.loc[:, 'Wave Length'] = (g * (q3_df['Period']**2)) / (2*pi)"
   ]
  },
  {
   "cell_type": "markdown",
   "id": "31cc6e10",
   "metadata": {},
   "source": [
    "Checking if we have all the right values in the station's column."
   ]
  },
  {
   "cell_type": "code",
   "execution_count": 41,
   "id": "24ff136c",
   "metadata": {},
   "outputs": [
    {
     "data": {
      "text/plain": [
       "array(['Brandon Bay', 'AMETS Berth A Wave Buoy',\n",
       "       'AMETS Berth B Wave Buoy', 'Clew Bay', 'Bantry Bay',\n",
       "       'SmartBay Wave Buoy'], dtype=object)"
      ]
     },
     "execution_count": 41,
     "metadata": {},
     "output_type": "execute_result"
    }
   ],
   "source": [
    "q3_df['Station'].unique()"
   ]
  },
  {
   "cell_type": "code",
   "execution_count": 42,
   "id": "29f85de1",
   "metadata": {
    "scrolled": true
   },
   "outputs": [
    {
     "data": {
      "image/png": "[encoded data removed]",
      "text/plain": [
       "<Figure size 1440x1440 with 1 Axes>"
      ]
     },
     "metadata": {},
     "output_type": "display_data"
    }
   ],
   "source": [
    "sns.set(rc={\"figure.figsize\": (20, 20)})\n",
    "sns.set_theme(style=\"whitegrid\")\n",
    "ax = sns.lineplot(x=\"Temperature\", y=\"Wave Length\", data=q3_df, hue='Station')\n",
    "plt.title('Wave Length x Temperature')\n",
    "plt.ylabel('Wave Length')\n",
    "plt.xlabel('Temperature')\n",
    "plt.show()"
   ]
  },
  {
   "cell_type": "markdown",
   "id": "0f88ca53",
   "metadata": {},
   "source": [
    "As seen in the graph above, there is a small correlation between Sea Temperature and Wave Lenght. As the temperatures goes up, Wave Length tends to go down."
   ]
  },
  {
   "cell_type": "markdown",
   "id": "de850c64",
   "metadata": {},
   "source": [
    "## a. It is possible to predict with accuracy the Wave Lenght, based on the Sea Temperature and the Bouy location?"
   ]
  },
  {
   "cell_type": "markdown",
   "id": "948aa0a8",
   "metadata": {},
   "source": [
    "Yes, it is. Because we can analyze that each buoy location has it's own plot line for each temperature and wave length value."
   ]
  },
  {
   "cell_type": "markdown",
   "id": "1889b402",
   "metadata": {},
   "source": [
    "## Build a Time Series model that can predict the sea temperature throughout the year"
   ]
  },
  {
   "cell_type": "markdown",
   "id": "7f33ef8b",
   "metadata": {},
   "source": [
    "**To predict the sea temperature throughout the year, we'll be using the NeuralProphet library, a library that makes creating time series prediction something easy.**"
   ]
  },
  {
   "cell_type": "markdown",
   "id": "b4b70e4d",
   "metadata": {},
   "source": [
    "Creating a SQL query to get the features that we'll be using for the time series model"
   ]
  },
  {
   "cell_type": "code",
   "execution_count": 302,
   "id": "df155838",
   "metadata": {},
   "outputs": [],
   "source": [
    "bonus_query = \"SELECT DISTINCT time as ds, SeaTemperature as y FROM Waves ORDER BY time ASC\"\n",
    "bonus_df = pd.read_sql(bonus_query, w_conn)"
   ]
  },
  {
   "cell_type": "markdown",
   "id": "a80513e5",
   "metadata": {},
   "source": [
    "Converting the 'ds' column to a datetime object"
   ]
  },
  {
   "cell_type": "code",
   "execution_count": 303,
   "id": "aae1ea34",
   "metadata": {},
   "outputs": [],
   "source": [
    "bonus_df.loc[:, 'ds'] = pd.to_datetime(bonus_df['ds'])"
   ]
  },
  {
   "cell_type": "markdown",
   "id": "4a1e1633",
   "metadata": {},
   "source": [
    "**Aiming to a cleaner dataset, we'll be using only the daily temperature average to predict the temperature.** "
   ]
  },
  {
   "cell_type": "markdown",
   "id": "5543fd91",
   "metadata": {},
   "source": [
    "Grouping the dataframe by the average temperature for each day"
   ]
  },
  {
   "cell_type": "code",
   "execution_count": 304,
   "id": "2a739b56",
   "metadata": {},
   "outputs": [],
   "source": [
    "bonus_df = bonus_df.groupby(bonus_df.ds.dt.date).mean()"
   ]
  },
  {
   "cell_type": "markdown",
   "id": "617ba742",
   "metadata": {},
   "source": [
    "Converting the index column (ds) to a normal column"
   ]
  },
  {
   "cell_type": "code",
   "execution_count": 305,
   "id": "716e2f60",
   "metadata": {
    "scrolled": false
   },
   "outputs": [],
   "source": [
    "bonus_df = bonus_df.rename_axis(['ds']).reset_index()"
   ]
  },
  {
   "cell_type": "code",
   "execution_count": 308,
   "id": "718cad25",
   "metadata": {
    "scrolled": false
   },
   "outputs": [
    {
     "data": {
      "text/html": [
       "<div>\n",
       "<style scoped>\n",
       "    .dataframe tbody tr th:only-of-type {\n",
       "        vertical-align: middle;\n",
       "    }\n",
       "\n",
       "    .dataframe tbody tr th {\n",
       "        vertical-align: top;\n",
       "    }\n",
       "\n",
       "    .dataframe thead th {\n",
       "        text-align: right;\n",
       "    }\n",
       "</style>\n",
       "<table border=\"1\" class=\"dataframe\">\n",
       "  <thead>\n",
       "    <tr style=\"text-align: right;\">\n",
       "      <th></th>\n",
       "      <th>ds</th>\n",
       "      <th>y</th>\n",
       "    </tr>\n",
       "  </thead>\n",
       "  <tbody>\n",
       "    <tr>\n",
       "      <th>0</th>\n",
       "      <td>2021-08-13</td>\n",
       "      <td>16.58</td>\n",
       "    </tr>\n",
       "    <tr>\n",
       "      <th>1</th>\n",
       "      <td>2021-08-14</td>\n",
       "      <td>16.57</td>\n",
       "    </tr>\n",
       "    <tr>\n",
       "      <th>2</th>\n",
       "      <td>2021-08-15</td>\n",
       "      <td>16.55</td>\n",
       "    </tr>\n",
       "    <tr>\n",
       "      <th>3</th>\n",
       "      <td>2021-08-16</td>\n",
       "      <td>16.34</td>\n",
       "    </tr>\n",
       "    <tr>\n",
       "      <th>4</th>\n",
       "      <td>2021-08-17</td>\n",
       "      <td>16.35</td>\n",
       "    </tr>\n",
       "    <tr>\n",
       "      <th>...</th>\n",
       "      <td>...</td>\n",
       "      <td>...</td>\n",
       "    </tr>\n",
       "    <tr>\n",
       "      <th>361</th>\n",
       "      <td>2022-08-09</td>\n",
       "      <td>18.01</td>\n",
       "    </tr>\n",
       "    <tr>\n",
       "      <th>362</th>\n",
       "      <td>2022-08-10</td>\n",
       "      <td>18.44</td>\n",
       "    </tr>\n",
       "    <tr>\n",
       "      <th>363</th>\n",
       "      <td>2022-08-11</td>\n",
       "      <td>18.89</td>\n",
       "    </tr>\n",
       "    <tr>\n",
       "      <th>364</th>\n",
       "      <td>2022-08-12</td>\n",
       "      <td>19.86</td>\n",
       "    </tr>\n",
       "    <tr>\n",
       "      <th>365</th>\n",
       "      <td>2022-08-13</td>\n",
       "      <td>20.10</td>\n",
       "    </tr>\n",
       "  </tbody>\n",
       "</table>\n",
       "<p>366 rows × 2 columns</p>\n",
       "</div>"
      ],
      "text/plain": [
       "             ds      y\n",
       "0    2021-08-13  16.58\n",
       "1    2021-08-14  16.57\n",
       "2    2021-08-15  16.55\n",
       "3    2021-08-16  16.34\n",
       "4    2021-08-17  16.35\n",
       "..          ...    ...\n",
       "361  2022-08-09  18.01\n",
       "362  2022-08-10  18.44\n",
       "363  2022-08-11  18.89\n",
       "364  2022-08-12  19.86\n",
       "365  2022-08-13  20.10\n",
       "\n",
       "[366 rows x 2 columns]"
      ]
     },
     "execution_count": 308,
     "metadata": {},
     "output_type": "execute_result"
    }
   ],
   "source": [
    "bonus_df"
   ]
  },
  {
   "cell_type": "markdown",
   "id": "f12489d2",
   "metadata": {},
   "source": [
    "Using seaborn to plot a graph of Time x Temperature throughout the year"
   ]
  },
  {
   "cell_type": "code",
   "execution_count": 145,
   "id": "ee0ac99f",
   "metadata": {
    "scrolled": false
   },
   "outputs": [
    {
     "data": {
      "image/png": "[encoded data removed]",
      "text/plain": [
       "<Figure size 1440x1440 with 1 Axes>"
      ]
     },
     "metadata": {},
     "output_type": "display_data"
    }
   ],
   "source": [
    "sns.set_theme(style=\"whitegrid\")\n",
    "ax = sns.lineplot(x=\"ds\", y=\"y\", data=bonus_df)\n",
    "plt.title('Time x Temperature')\n",
    "plt.ylabel('Temperature')\n",
    "plt.xlabel('Time')\n",
    "plt.show()"
   ]
  },
  {
   "cell_type": "markdown",
   "id": "dcef8788",
   "metadata": {},
   "source": [
    "**Using NeuralProphet to predict temperatures throughout the year**"
   ]
  },
  {
   "cell_type": "code",
   "execution_count": 310,
   "id": "4b178eb2",
   "metadata": {
    "scrolled": false
   },
   "outputs": [
    {
     "name": "stderr",
     "output_type": "stream",
     "text": [
      "INFO - (NP.df_utils._infer_frequency) - Major frequency D corresponds to 99.727% of the data.\n",
      "INFO - (NP.df_utils._infer_frequency) - Defined frequency is equal to major frequency - D\n",
      "INFO - (NP.config.init_data_params) - Setting normalization to global as only one dataframe provided for training.\n",
      "INFO - (NP.utils.set_auto_seasonalities) - Disabling yearly seasonality. Run NeuralProphet with yearly_seasonality=True to override this.\n",
      "INFO - (NP.utils.set_auto_seasonalities) - Disabling daily seasonality. Run NeuralProphet with daily_seasonality=True to override this.\n",
      "INFO - (NP.config.set_auto_batch_epoch) - Auto-set batch_size to 16\n",
      "INFO - (NP.config.set_auto_batch_epoch) - Auto-set epochs to 278\n"
     ]
    },
    {
     "data": {
      "application/vnd.jupyter.widget-view+json": {
       "model_id": "eab6ec070bcc45ee855a5cd16e6f5da0",
       "version_major": 2,
       "version_minor": 0
      },
      "text/plain": [
       "  0%|          | 0/116 [00:00<?, ?it/s]"
      ]
     },
     "metadata": {},
     "output_type": "display_data"
    },
    {
     "name": "stderr",
     "output_type": "stream",
     "text": [
      "INFO - (NP.utils_torch.lr_range_test) - lr-range-test results: steep: 2.27E+00, min: 2.18E-01\n"
     ]
    },
    {
     "data": {
      "application/vnd.jupyter.widget-view+json": {
       "model_id": "34828f1c6f1a4bd0a809b6cdcd1d9830",
       "version_major": 2,
       "version_minor": 0
      },
      "text/plain": [
       "  0%|          | 0/116 [00:00<?, ?it/s]"
      ]
     },
     "metadata": {},
     "output_type": "display_data"
    },
    {
     "name": "stderr",
     "output_type": "stream",
     "text": [
      "INFO - (NP.utils_torch.lr_range_test) - lr-range-test results: steep: 2.18E-01, min: 4.49E-01\n",
      "INFO - (NP.forecaster._init_train_loader) - lr-range-test selected learning rate: 3.67E-01\n",
      "Epoch[278/278]: 100%|█████████| 278/278 [00:06<00:00, 46.13it/s, SmoothL1Loss=0.00185, MAE=0.435, RMSE=0.57, RegLoss=0]\n"
     ]
    }
   ],
   "source": [
    "from neuralprophet import NeuralProphet #Importing the library\n",
    "n = NeuralProphet() #Creating an object from the NeuralProphet class\n",
    "model = n.fit(bonus_df, freq='D') #Training the model"
   ]
  },
  {
   "cell_type": "markdown",
   "id": "b3fae991",
   "metadata": {},
   "source": [
    "Predicting the temperature throughout the year"
   ]
  },
  {
   "cell_type": "code",
   "execution_count": 312,
   "id": "0ac61b0e",
   "metadata": {
    "scrolled": false
   },
   "outputs": [
    {
     "name": "stderr",
     "output_type": "stream",
     "text": [
      "INFO - (NP.df_utils._infer_frequency) - Major frequency D corresponds to 99.727% of the data.\n",
      "INFO - (NP.df_utils._infer_frequency) - Defined frequency is equal to major frequency - D\n",
      "INFO - (NP.df_utils._infer_frequency) - Major frequency D corresponds to 99.727% of the data.\n",
      "INFO - (NP.df_utils._infer_frequency) - Defined frequency is equal to major frequency - D\n"
     ]
    }
   ],
   "source": [
    "forecast = n.predict(bonus_df) "
   ]
  },
  {
   "cell_type": "markdown",
   "id": "684fb60f",
   "metadata": {},
   "source": [
    "Plotting actual Y values x Predicted Y value"
   ]
  },
  {
   "cell_type": "code",
   "execution_count": 313,
   "id": "976eac17",
   "metadata": {
    "scrolled": false
   },
   "outputs": [
    {
     "data": {
      "image/png": "[encoded data removed]",
      "text/plain": [
       "<Figure size 720x432 with 1 Axes>"
      ]
     },
     "metadata": {},
     "output_type": "display_data"
    }
   ],
   "source": [
    "plot = n.plot(forecast) "
   ]
  },
  {
   "cell_type": "markdown",
   "id": "0090cb6c",
   "metadata": {},
   "source": [
    "## Question 4"
   ]
  },
  {
   "cell_type": "code",
   "execution_count": null,
   "id": "b316c952",
   "metadata": {},
   "outputs": [],
   "source": [
    "q4_query = \"SELECT DISTINCT SignificantWaveHeight as Height\""
   ]
  }
 ],
 "metadata": {
  "kernelspec": {
   "display_name": "Python 3 (ipykernel)",
   "language": "python",
   "name": "python3"
  },
  "language_info": {
   "codemirror_mode": {
    "name": "ipython",
    "version": 3
   },
   "file_extension": ".py",
   "mimetype": "text/x-python",
   "name": "python",
   "nbconvert_exporter": "python",
   "pygments_lexer": "ipython3",
   "version": "3.9.7"
  }
 },
 "nbformat": 4,
 "nbformat_minor": 5
}
